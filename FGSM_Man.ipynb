{
  "nbformat": 4,
  "nbformat_minor": 0,
  "metadata": {
    "colab": {
      "name": "adv_tf_im_cls_man.ipynb",
      "provenance": [],
      "collapsed_sections": [],
      "authorship_tag": "ABX9TyPmH7iyYA5GCUMi3HMtO7rv",
      "include_colab_link": true
    },
    "kernelspec": {
      "name": "python3",
      "display_name": "Python 3"
    },
    "language_info": {
      "name": "python"
    }
  },
  "cells": [
    {
      "cell_type": "markdown",
      "metadata": {
        "id": "view-in-github",
        "colab_type": "text"
      },
      "source": [
        "<a href=\"https://colab.research.google.com/github/Wapiti08/Evasion_Attacks/blob/main/FGSM_Man.ipynb\" target=\"_parent\"><img src=\"https://colab.research.google.com/assets/colab-badge.svg\" alt=\"Open In Colab\"/></a>"
      ]
    },
    {
      "cell_type": "code",
      "source": [
        "!pip3 install eagerpy"
      ],
      "metadata": {
        "colab": {
          "base_uri": "https://localhost:8080/"
        },
        "id": "SsN8Vvg7p84m",
        "outputId": "7bb4990f-7bfa-46ed-b046-874665c0a35d"
      },
      "execution_count": 1,
      "outputs": [
        {
          "output_type": "stream",
          "name": "stdout",
          "text": [
            "Looking in indexes: https://pypi.org/simple, https://us-python.pkg.dev/colab-wheels/public/simple/\n",
            "Collecting eagerpy\n",
            "  Downloading eagerpy-0.30.0-py3-none-any.whl (31 kB)\n",
            "Requirement already satisfied: typing-extensions>=3.7.4.1 in /usr/local/lib/python3.7/dist-packages (from eagerpy) (4.1.1)\n",
            "Requirement already satisfied: numpy in /usr/local/lib/python3.7/dist-packages (from eagerpy) (1.21.6)\n",
            "Installing collected packages: eagerpy\n",
            "Successfully installed eagerpy-0.30.0\n"
          ]
        }
      ]
    },
    {
      "cell_type": "code",
      "source": [
        "!pip3 show tensorflow"
      ],
      "metadata": {
        "id": "Q-YZkyKluXDc",
        "outputId": "7b488c5d-9cf4-47be-fcf9-2b99a7e4072f",
        "colab": {
          "base_uri": "https://localhost:8080/"
        }
      },
      "execution_count": 2,
      "outputs": [
        {
          "output_type": "stream",
          "name": "stdout",
          "text": [
            "Name: tensorflow\n",
            "Version: 2.8.2+zzzcolab20220527125636\n",
            "Summary: TensorFlow is an open source machine learning framework for everyone.\n",
            "Home-page: https://www.tensorflow.org/\n",
            "Author: Google Inc.\n",
            "Author-email: packages@tensorflow.org\n",
            "License: Apache 2.0\n",
            "Location: /usr/local/lib/python3.7/dist-packages\n",
            "Requires: opt-einsum, keras-preprocessing, termcolor, tensorflow-estimator, google-pasta, h5py, tensorboard, libclang, protobuf, flatbuffers, keras, typing-extensions, astunparse, absl-py, gast, tensorflow-io-gcs-filesystem, grpcio, numpy, wrapt, setuptools, six\n",
            "Required-by: kapre\n"
          ]
        }
      ]
    },
    {
      "cell_type": "code",
      "execution_count": 3,
      "metadata": {
        "id": "T7KUUKXybR9U"
      },
      "outputs": [],
      "source": [
        "import eagerpy as ep"
      ]
    },
    {
      "cell_type": "code",
      "source": [
        "import tensorflow as tf\n",
        "\n",
        "x = tf.constant([1., 2., 3.])\n",
        "x = ep.TensorFlowTensor(x)"
      ],
      "metadata": {
        "id": "onE-l3P7p4Kn"
      },
      "execution_count": 4,
      "outputs": []
    },
    {
      "cell_type": "code",
      "source": [
        "x"
      ],
      "metadata": {
        "colab": {
          "base_uri": "https://localhost:8080/"
        },
        "id": "Su2ZRLyWsNS7",
        "outputId": "2fb8aaed-cd5e-4cc2-de8c-bcb0f8af38fc"
      },
      "execution_count": 5,
      "outputs": [
        {
          "output_type": "execute_result",
          "data": {
            "text/plain": [
              "TensorFlowTensor(<tf.Tensor: shape=(3,), dtype=float32, numpy=array([1., 2., 3.], dtype=float32)>)"
            ]
          },
          "metadata": {},
          "execution_count": 5
        }
      ]
    },
    {
      "cell_type": "code",
      "source": [
        "x.clip(0,2)"
      ],
      "metadata": {
        "colab": {
          "base_uri": "https://localhost:8080/"
        },
        "id": "YQWeKKpWsOlq",
        "outputId": "931461e6-5bcd-4369-cba8-5385420888b2"
      },
      "execution_count": 6,
      "outputs": [
        {
          "output_type": "execute_result",
          "data": {
            "text/plain": [
              "TensorFlowTensor(<tf.Tensor: shape=(3,), dtype=float32, numpy=array([1., 2., 2.], dtype=float32)>)"
            ]
          },
          "metadata": {},
          "execution_count": 6
        }
      ]
    },
    {
      "cell_type": "markdown",
      "source": [
        "### build basic image classification system"
      ],
      "metadata": {
        "id": "zgOFTNQdx-Mf"
      }
    },
    {
      "cell_type": "code",
      "source": [
        "import tensorflow as tf"
      ],
      "metadata": {
        "id": "kCee9_TbsTGx"
      },
      "execution_count": 7,
      "outputs": []
    },
    {
      "cell_type": "code",
      "source": [
        "from ssl import RAND_status\n",
        "# load dataset\n",
        "(x_train, y_train), (x_test, y_test) = tf.keras.datasets.mnist.load_data()"
      ],
      "metadata": {
        "id": "G-6afDPNx6pd",
        "colab": {
          "base_uri": "https://localhost:8080/"
        },
        "outputId": "01402227-e704-4b14-f947-6a6d39b49b48"
      },
      "execution_count": 8,
      "outputs": [
        {
          "output_type": "stream",
          "name": "stdout",
          "text": [
            "Downloading data from https://storage.googleapis.com/tensorflow/tf-keras-datasets/mnist.npz\n",
            "11493376/11490434 [==============================] - 0s 0us/step\n",
            "11501568/11490434 [==============================] - 0s 0us/step\n"
          ]
        }
      ]
    },
    {
      "cell_type": "code",
      "source": [
        "# x_train[0]"
      ],
      "metadata": {
        "id": "nBWEqka-7GBy"
      },
      "execution_count": 9,
      "outputs": []
    },
    {
      "cell_type": "code",
      "source": [
        "# build the model\n",
        "from tensorflow.keras.layers import Dense, Conv2D, Dropout, MaxPool2D, Flatten\n",
        "from tensorflow.keras.models import Sequential"
      ],
      "metadata": {
        "id": "x4gyowPlzuvG"
      },
      "execution_count": 10,
      "outputs": []
    },
    {
      "cell_type": "code",
      "source": [
        "# add channel\n",
        "input_shape = [28, 28, 1]\n",
        "\n",
        "x_train = x_train.reshape(x_train.shape[0] ,28, 28, 1)\n",
        "x_test = x_test.reshape(x_test.shape[0], 28, 28, 1)\n",
        "\n",
        "# normalize\n",
        "x_train = x_train/255\n",
        "x_test = x_test/255"
      ],
      "metadata": {
        "id": "stZK3hfe4imc"
      },
      "execution_count": 11,
      "outputs": []
    },
    {
      "cell_type": "code",
      "source": [
        "model = Sequential()\n",
        "# first con2d \n",
        "model.add(Conv2D(28, (3,3), input_shape = input_shape))\n",
        "# maxpooling layer\n",
        "model.add(MaxPool2D())\n",
        "# Flatten layer\n",
        "model.add(Flatten())\n",
        "# First Dense\n",
        "model.add(Dense(128, activation='relu'))\n",
        "# Dropout layer\n",
        "model.add(Dropout(0.2))\n",
        "# Output layer, the unit number equals to total class number\n",
        "model.add(Dense(10, activation='softmax'))"
      ],
      "metadata": {
        "id": "ofjlTzVy0nhu"
      },
      "execution_count": 12,
      "outputs": []
    },
    {
      "cell_type": "code",
      "source": [
        "# compile the model\n",
        "model.compile(optimizer=tf.keras.optimizers.Adam(learning_rate=1e-3),\n",
        "              loss=tf.keras.losses.SparseCategoricalCrossentropy(),\n",
        "              metrics=['accuracy'])\n"
      ],
      "metadata": {
        "id": "lklyvuCwMpNw"
      },
      "execution_count": 13,
      "outputs": []
    },
    {
      "cell_type": "code",
      "source": [
        "# fit the model with data\n",
        "model.fit(x_train, y_train, batch_size =100, epochs=15, verbose=2)"
      ],
      "metadata": {
        "colab": {
          "base_uri": "https://localhost:8080/"
        },
        "id": "SEEO7YC3N3U9",
        "outputId": "f4333f43-b565-4741-cdff-082a2c42cb07"
      },
      "execution_count": 14,
      "outputs": [
        {
          "output_type": "stream",
          "name": "stdout",
          "text": [
            "Epoch 1/15\n",
            "600/600 - 32s - loss: 0.2716 - accuracy: 0.9186 - 32s/epoch - 53ms/step\n",
            "Epoch 2/15\n",
            "600/600 - 21s - loss: 0.1096 - accuracy: 0.9672 - 21s/epoch - 35ms/step\n",
            "Epoch 3/15\n",
            "600/600 - 27s - loss: 0.0737 - accuracy: 0.9777 - 27s/epoch - 46ms/step\n",
            "Epoch 4/15\n",
            "600/600 - 21s - loss: 0.0569 - accuracy: 0.9817 - 21s/epoch - 35ms/step\n",
            "Epoch 5/15\n",
            "600/600 - 21s - loss: 0.0448 - accuracy: 0.9859 - 21s/epoch - 35ms/step\n",
            "Epoch 6/15\n",
            "600/600 - 21s - loss: 0.0365 - accuracy: 0.9887 - 21s/epoch - 35ms/step\n",
            "Epoch 7/15\n",
            "600/600 - 22s - loss: 0.0313 - accuracy: 0.9905 - 22s/epoch - 36ms/step\n",
            "Epoch 8/15\n",
            "600/600 - 21s - loss: 0.0265 - accuracy: 0.9910 - 21s/epoch - 35ms/step\n",
            "Epoch 9/15\n",
            "600/600 - 21s - loss: 0.0234 - accuracy: 0.9919 - 21s/epoch - 35ms/step\n",
            "Epoch 10/15\n",
            "600/600 - 21s - loss: 0.0214 - accuracy: 0.9928 - 21s/epoch - 35ms/step\n",
            "Epoch 11/15\n",
            "600/600 - 21s - loss: 0.0172 - accuracy: 0.9944 - 21s/epoch - 35ms/step\n",
            "Epoch 12/15\n",
            "600/600 - 21s - loss: 0.0170 - accuracy: 0.9945 - 21s/epoch - 35ms/step\n",
            "Epoch 13/15\n",
            "600/600 - 21s - loss: 0.0135 - accuracy: 0.9956 - 21s/epoch - 35ms/step\n",
            "Epoch 14/15\n",
            "600/600 - 21s - loss: 0.0128 - accuracy: 0.9955 - 21s/epoch - 35ms/step\n",
            "Epoch 15/15\n",
            "600/600 - 21s - loss: 0.0128 - accuracy: 0.9955 - 21s/epoch - 35ms/step\n"
          ]
        },
        {
          "output_type": "execute_result",
          "data": {
            "text/plain": [
              "<keras.callbacks.History at 0x7fe9fc37bad0>"
            ]
          },
          "metadata": {},
          "execution_count": 14
        }
      ]
    },
    {
      "cell_type": "code",
      "source": [
        "model.evaluate(x_test, y_test)\n"
      ],
      "metadata": {
        "colab": {
          "base_uri": "https://localhost:8080/"
        },
        "id": "3n29NMi5GBeq",
        "outputId": "bb4b4bbf-ec8d-476f-f237-090a748d446f"
      },
      "execution_count": 15,
      "outputs": [
        {
          "output_type": "stream",
          "name": "stdout",
          "text": [
            "313/313 [==============================] - 2s 7ms/step - loss: 0.0529 - accuracy: 0.9864\n"
          ]
        },
        {
          "output_type": "execute_result",
          "data": {
            "text/plain": [
              "[0.052903447300195694, 0.9864000082015991]"
            ]
          },
          "metadata": {},
          "execution_count": 15
        }
      ]
    },
    {
      "cell_type": "code",
      "source": [
        "# predict on test data with right example\n",
        "\n",
        "image_index = 100\n",
        "import matplotlib.pyplot as plt\n",
        "\n",
        "plt.imshow(x_test[image_index].reshape(28,28))\n",
        "\n",
        "result = model.predict(x_test[image_index].reshape(1, 28,28,1))\n",
        "\n",
        "print('The max possibility is: ', result.max(1))\n",
        "print('The predicted class is: ', result.argmax())"
      ],
      "metadata": {
        "id": "wVKle4r8u4F7",
        "colab": {
          "base_uri": "https://localhost:8080/",
          "height": 300
        },
        "outputId": "2f2f53e8-1045-42be-a335-17005c054e90"
      },
      "execution_count": 16,
      "outputs": [
        {
          "output_type": "stream",
          "name": "stdout",
          "text": [
            "The max possibility is:  [1.]\n",
            "The predicted class is:  6\n"
          ]
        },
        {
          "output_type": "display_data",
          "data": {
            "text/plain": [
              "<Figure size 432x288 with 1 Axes>"
            ],
            "image/png": "[encoded data removed]"
          },
          "metadata": {
            "needs_background": "light"
          }
        }
      ]
    },
    {
      "cell_type": "code",
      "source": [
        "plt.imshow(x_test[1000].reshape(28,28))\n",
        "\n",
        "result = model.predict(x_test[1000].reshape(1, 28,28,1))\n",
        "\n",
        "print('The max possibility is: ', result.max(1))\n",
        "print('The predicted class is: ', result.argmax())"
      ],
      "metadata": {
        "colab": {
          "base_uri": "https://localhost:8080/",
          "height": 300
        },
        "id": "NYs99WQd5wCt",
        "outputId": "90ae9700-d0e0-488d-fe5c-701efa3f765f"
      },
      "execution_count": 17,
      "outputs": [
        {
          "output_type": "stream",
          "name": "stdout",
          "text": [
            "The max possibility is:  [0.9999869]\n",
            "The predicted class is:  9\n"
          ]
        },
        {
          "output_type": "display_data",
          "data": {
            "text/plain": [
              "<Figure size 432x288 with 1 Axes>"
            ],
            "image/png": "[encoded data removed]"
          },
          "metadata": {
            "needs_background": "light"
          }
        }
      ]
    },
    {
      "cell_type": "code",
      "source": [
        "# find the wrong prediction\n",
        "prediction = model.predict(x_test)\n",
        "# save the wrong predicted values\n",
        "wrong_predict = []\n",
        "for order, value in enumerate(y_test):\n",
        "  if y_test[order] != prediction[order].argmax():\n",
        "    wrong_predict.append(order)\n",
        "print(wrong_predict)"
      ],
      "metadata": {
        "colab": {
          "base_uri": "https://localhost:8080/"
        },
        "id": "yZZzMVOA2NiH",
        "outputId": "04975aa2-b7c3-417a-8ec0-93dba4dd1976"
      },
      "execution_count": 18,
      "outputs": [
        {
          "output_type": "stream",
          "name": "stdout",
          "text": [
            "[8, 62, 247, 321, 340, 359, 445, 495, 578, 582, 619, 684, 720, 813, 839, 883, 947, 951, 956, 1014, 1039, 1112, 1181, 1226, 1232, 1247, 1272, 1378, 1393, 1414, 1530, 1549, 1621, 1681, 1709, 1754, 1790, 1901, 2018, 2035, 2040, 2043, 2070, 2109, 2118, 2135, 2182, 2266, 2293, 2414, 2462, 2488, 2597, 2654, 2896, 2921, 2927, 2939, 2953, 3030, 3060, 3073, 3225, 3289, 3422, 3475, 3503, 3520, 3558, 3597, 3601, 3604, 3662, 3726, 3727, 3751, 3762, 3778, 3818, 3853, 3906, 3941, 3985, 4163, 4176, 4201, 4248, 4289, 4360, 4369, 4425, 4433, 4443, 4497, 4536, 4761, 4807, 4823, 4833, 4880, 5246, 5331, 5676, 5734, 5749, 5887, 5888, 5937, 5955, 5973, 6023, 6045, 6555, 6597, 6625, 6755, 7198, 7216, 7514, 7800, 7821, 7849, 9009, 9015, 9019, 9024, 9540, 9587, 9634, 9642, 9664, 9679, 9692, 9729, 9770, 9839]\n"
          ]
        }
      ]
    },
    {
      "cell_type": "code",
      "source": [
        "# wrong predicted example\n",
        "image_index = 92\n",
        "\n",
        "plt.imshow(x_test[image_index].reshape(28,28))\n",
        "\n",
        "result = model.predict(x_test[image_index].reshape(1, 28,28,1))\n",
        "\n",
        "print('The max possibility is: ', result.max(1))\n",
        "print('The predicted class is: ', result.argmax())"
      ],
      "metadata": {
        "colab": {
          "base_uri": "https://localhost:8080/",
          "height": 300
        },
        "id": "bskV3SRk3UcH",
        "outputId": "56a25d51-d413-4300-ee18-d3ed244a5d86"
      },
      "execution_count": 19,
      "outputs": [
        {
          "output_type": "stream",
          "name": "stdout",
          "text": [
            "The max possibility is:  [0.96978915]\n",
            "The predicted class is:  9\n"
          ]
        },
        {
          "output_type": "display_data",
          "data": {
            "text/plain": [
              "<Figure size 432x288 with 1 Axes>"
            ],
            "image/png": "[encoded data removed]"
          },
          "metadata": {
            "needs_background": "light"
          }
        }
      ]
    },
    {
      "cell_type": "code",
      "source": [
        "from itertools import permutations\n",
        "# build adversarial example and see the predicted result\n",
        "## the formula is '6'(1 confidence) + '9' (0.97 confidence) * 0.007 = ?\n",
        "\n",
        "fig = plt.figure(figsize=(12,12))\n",
        "\n",
        "perturbation_rate=1\n",
        "\n",
        "ori_img_1 = x_test[100].reshape(28, 28)\n",
        "fig.add_subplot(2, 2, 1)\n",
        "plt.imshow(ori_img_1)\n",
        "print(\"Original result is:\", y_test[100])\n",
        "\n",
        "\n",
        "adv_img_1 = x_test[100].reshape(1,28,28,1) + x_test[18].reshape(1,28,28,1) * perturbation_rate\n",
        "fig.add_subplot(2, 2, 2)\n",
        "plt.imshow(adv_img_1.reshape(28,28))\n",
        "print(\"Predicted result is:\", model.predict(adv_img_1).argmax())\n",
        "\n",
        "ori_img_2 = x_test[1000].reshape(28, 28)\n",
        "fig.add_subplot(2, 2, 3)\n",
        "plt.imshow(ori_img_2)\n",
        "print(\"Original result is:\", y_test[1000])\n",
        "\n",
        "\n",
        "adv_img_2 = x_test[1000].reshape(1,28,28,1) + x_test[18].reshape(1,28,28,1) * perturbation_rate\n",
        "fig.add_subplot(2, 2, 4)\n",
        "plt.imshow(adv_img_2.reshape(28,28))\n",
        "print(\"Predicted result is:\", model.predict(adv_img_2).argmax())\n",
        "\n"
      ],
      "metadata": {
        "colab": {
          "base_uri": "https://localhost:8080/",
          "height": 769
        },
        "id": "I5psYY9p4EF8",
        "outputId": "576da46b-c9ef-4ebf-a811-0fa3ff967ee4"
      },
      "execution_count": 20,
      "outputs": [
        {
          "output_type": "stream",
          "name": "stdout",
          "text": [
            "Original result is: 6\n",
            "Predicted result is: 8\n",
            "Original result is: 9\n",
            "Predicted result is: 3\n"
          ]
        },
        {
          "output_type": "display_data",
          "data": {
            "text/plain": [
              "<Figure size 864x864 with 4 Axes>"
            ],
            "image/png": "[encoded data removed]"
          },
          "metadata": {
            "needs_background": "light"
          }
        }
      ]
    },
    {
      "cell_type": "code",
      "source": [
        "# retrain with wrong prediction\n",
        "print(\"The length of wrong predicted values: \",len(wrong_predict))\n",
        "model.train_on_batch(x_test[wrong_predict].reshape(len(wrong_predict),28,28,1), y_test[wrong_predict])\n",
        "# return with (loss, accuracy)"
      ],
      "metadata": {
        "colab": {
          "base_uri": "https://localhost:8080/"
        },
        "id": "PpRb0gHb0acQ",
        "outputId": "47c35dbb-22b8-451a-d2b9-efc7f079a142"
      },
      "execution_count": 21,
      "outputs": [
        {
          "output_type": "stream",
          "name": "stdout",
          "text": [
            "The length of wrong predicted values:  136\n"
          ]
        },
        {
          "output_type": "execute_result",
          "data": {
            "text/plain": [
              "[3.9563121795654297, 0.16911764442920685]"
            ]
          },
          "metadata": {},
          "execution_count": 21
        }
      ]
    },
    {
      "cell_type": "code",
      "source": [
        "model.evaluate(x_test, y_test)"
      ],
      "metadata": {
        "colab": {
          "base_uri": "https://localhost:8080/"
        },
        "id": "3ZTMjYStFM8k",
        "outputId": "8d7250b9-59e8-4fcf-f647-501599537b7a"
      },
      "execution_count": 22,
      "outputs": [
        {
          "output_type": "stream",
          "name": "stdout",
          "text": [
            "313/313 [==============================] - 2s 7ms/step - loss: 0.0376 - accuracy: 0.9884\n"
          ]
        },
        {
          "output_type": "execute_result",
          "data": {
            "text/plain": [
              "[0.037628162652254105, 0.9883999824523926]"
            ]
          },
          "metadata": {},
          "execution_count": 22
        }
      ]
    },
    {
      "cell_type": "markdown",
      "source": [
        "Implementation of Fast Gradient Sign Method (FGSM)"
      ],
      "metadata": {
        "id": "QOAhpJNLGvMt"
      }
    },
    {
      "cell_type": "code",
      "source": [
        "loss_object = tf.keras.losses.SparseCategoricalCrossentropy()\n",
        "\n",
        "def create_adv_pattern(input_image, input_label):\n",
        "  # record operations for automatic differentiation\n",
        "  with tf.GradientTape() as tape:\n",
        "    input_image = tf.reshape(input_image, (1,28,28,1))\n",
        "    tape.watch(input_image)\n",
        "    prediction = model(input_image)\n",
        "    loss = loss_object(input_label, prediction)\n",
        "  \n",
        "  # get the gradient of the loss to the input image\n",
        "  ## target, source\n",
        "  gradient = tape.gradient(loss, input_image)\n",
        "  ## get the sign of gradient for perturbation\n",
        "  signed_grad = tf.sign(gradient)\n",
        "\n",
        "  return signed_grad"
      ],
      "metadata": {
        "id": "2GWDysHhVOJC"
      },
      "execution_count": 93,
      "outputs": []
    },
    {
      "cell_type": "code",
      "source": [
        "image_index = 2\n",
        "image_arr = x_test[1]\n",
        "label = y_test[1]\n",
        "perturbations = create_adv_pattern(image_arr, label)"
      ],
      "metadata": {
        "id": "7WYkEbOJV_3z"
      },
      "execution_count": 138,
      "outputs": []
    },
    {
      "cell_type": "code",
      "source": [
        "# change range [-1,1] to [0,1]\n",
        "plt.imshow(tf.reshape(perturbations,(28,28)) * 0.5 + 0.5)"
      ],
      "metadata": {
        "colab": {
          "base_uri": "https://localhost:8080/",
          "height": 282
        },
        "id": "yBV6TeZ0kFP-",
        "outputId": "0d793da8-b29a-4532-d08a-0d6f19570760"
      },
      "execution_count": 139,
      "outputs": [
        {
          "output_type": "execute_result",
          "data": {
            "text/plain": [
              "<matplotlib.image.AxesImage at 0x7fe9efd9ac90>"
            ]
          },
          "metadata": {},
          "execution_count": 139
        },
        {
          "output_type": "display_data",
          "data": {
            "text/plain": [
              "<Figure size 432x288 with 1 Axes>"
            ],
            "image/png": "[encoded data removed]"
          },
          "metadata": {
            "needs_background": "light"
          }
        }
      ]
    },
    {
      "cell_type": "markdown",
      "source": [
        "Try to add perturbations with different epsilon (size)"
      ],
      "metadata": {
        "id": "kCmNo4YLu6RN"
      }
    },
    {
      "cell_type": "code",
      "source": [
        "# decode_preds = tf.keras.applications.imagenet_utils.decode_predictions\n",
        "\n",
        "def get_img_label(probs):\n",
        "  '''\n",
        "    return with label and confidence\n",
        "  '''\n",
        "  # return with top one guess --- return with class_name, class_desc, score\n",
        "  return probs.argmax(), probs[0][probs.argmax()]\n"
      ],
      "metadata": {
        "id": "iqrDfM4e-a9p"
      },
      "execution_count": 140,
      "outputs": []
    },
    {
      "cell_type": "code",
      "source": [
        "def display_image(image, description):\n",
        "  # convert to the shape that can be predicted\n",
        "  image = tf.reshape(image, (1,28,28,1))\n",
        "  label, confidence = get_img_label(model.predict(image))\n",
        "  plt.figure()\n",
        "\n",
        "  plt.imshow(tf.reshape(image,(28,28))*0.5+0.5)\n",
        "  plt.title('{} \\n {} : {:.2f}% Confidence'.format(description, label, confidence))\n",
        "\n",
        "  plt.show()\n"
      ],
      "metadata": {
        "id": "zZhfO1YOvECR"
      },
      "execution_count": 141,
      "outputs": []
    },
    {
      "cell_type": "code",
      "source": [
        "epsilons = [0, 0.01, 0.1, 0.15, 0.3, 0.5, 0.7]\n",
        "\n",
        "descriptions = [('Epsilon = {:.3f}'.format(eps) if eps else 'Input' )\n",
        "                for eps in epsilons] \n",
        "\n",
        "for i, eps in enumerate(epsilons):\n",
        "    adv_img = tf.reshape(x_test[image_index], (1,28,28,1)) + eps*perturbations\n",
        "    display_image(tf.reshape(adv_img,(28,28)), descriptions[i])\n"
      ],
      "metadata": {
        "colab": {
          "base_uri": "https://localhost:8080/",
          "height": 1000
        },
        "id": "wNjQxEJmvpiz",
        "outputId": "460e6d86-3c7e-4312-bd61-68e712453260"
      },
      "execution_count": 142,
      "outputs": [
        {
          "output_type": "display_data",
          "data": {
            "text/plain": [
              "<Figure size 432x288 with 1 Axes>"
            ],
            "image/png": "[encoded data removed]"
          },
          "metadata": {
            "needs_background": "light"
          }
        },
        {
          "output_type": "display_data",
          "data": {
            "text/plain": [
              "<Figure size 432x288 with 1 Axes>"
            ],
            "image/png": "[encoded data removed]"
          },
          "metadata": {
            "needs_background": "light"
          }
        },
        {
          "output_type": "display_data",
          "data": {
            "text/plain": [
              "<Figure size 432x288 with 1 Axes>"
            ],
            "image/png": "[encoded data removed]"
          },
          "metadata": {
            "needs_background": "light"
          }
        },
        {
          "output_type": "display_data",
          "data": {
            "text/plain": [
              "<Figure size 432x288 with 1 Axes>"
            ],
            "image/png": "[encoded data removed]"
          },
          "metadata": {
            "needs_background": "light"
          }
        },
        {
          "output_type": "display_data",
          "data": {
            "text/plain": [
              "<Figure size 432x288 with 1 Axes>"
            ],
            "image/png": "[encoded data removed]"
          },
          "metadata": {
            "needs_background": "light"
          }
        },
        {
          "output_type": "display_data",
          "data": {
            "text/plain": [
              "<Figure size 432x288 with 1 Axes>"
            ],
            "image/png": "[encoded data removed]"
          },
          "metadata": {
            "needs_background": "light"
          }
        },
        {
          "output_type": "display_data",
          "data": {
            "text/plain": [
              "<Figure size 432x288 with 1 Axes>"
            ],
            "image/png": "[encoded data removed]"
          },
          "metadata": {
            "needs_background": "light"
          }
        }
      ]
    },
    {
      "cell_type": "code",
      "source": [
        "\n"
      ],
      "metadata": {
        "id": "l_x0I1xYACm_"
      },
      "execution_count": null,
      "outputs": []
    }
  ]
}